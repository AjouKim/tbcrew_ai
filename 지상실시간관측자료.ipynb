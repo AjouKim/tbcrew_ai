{
 "cells": [
  {
   "cell_type": "code",
   "execution_count": 6,
   "id": "12d2ff15-2626-4dda-a41c-8d55884b0ef0",
   "metadata": {},
   "outputs": [],
   "source": [
    "import requests  # requests 모듈 임포트\n",
    "import numpy as np\n",
    "import pandas as pd\n",
    "from tqdm import tqdm\n",
    "import matplotlib.pyplot as plt\n",
    "import seaborn as sns\n",
    "\n",
    "\n",
    "headers = {  # 헤더 설정\n",
    "    'Content-Type': 'application/json'  # JSON 형식 설정\n",
    "}\n",
    "\n",
    "#단기 육상 예보 정보 조회 예시\n",
    "\n",
    "api_key = 'wgUybypBT-2FMm8qQT_tbQ'\n",
    "\n",
    "url = f'https://apihub.kma.go.kr/api/typ01/url/kma_sfctm2.php?tm1=202501130000&tm2=202501161200&stn=156&help=1&authKey={api_key}'\n",
    "\n",
    "response = requests.get(url, headers=headers)  # GET 요청"
   ]
  },
  {
   "cell_type": "code",
   "execution_count": 7,
   "id": "addccfd0-8387-4348-a6d1-7286a98609e9",
   "metadata": {},
   "outputs": [
    {
     "name": "stdout",
     "output_type": "stream",
     "text": [
      "#START7777\n",
      "#--------------------------------------------------------------------------------------------------\n",
      "#  기상청 지상관측 시간자료 [입력인수형태][예] ?tm=201007151200&stn=0&help=1\n",
      "#--------------------------------------------------------------------------------------------------\n",
      "#  1. TM     : 관측시각 (KST)\n",
      "#  2. STN    : 국내 지점번호\n",
      "#  3. WD     : 풍향 (16방위)\n",
      "#  4. WS     : 풍속 (m/s)\n",
      "#  5. GST_WD : 돌풍향 (16방위)\n",
      "#  6. GST_WS : 돌풍속 (m/s)\n",
      "#  7. GST_TM : 돌풍속이 관측된 시각 (시분)\n",
      "#  8. PA     : 현지기압 (hPa)\n",
      "#  9. PS     : 해면기압 (hPa)\n",
      "# 10. PT     : 기압변화경향 (Code 0200) \n",
      "# 11. PR     : 기압변화량 (hPa)\n",
      "# 12. TA     : 기온 (C)\n",
      "# 13. TD     : 이슬점온도 (C)\n",
      "# 14. HM     : 상대습도 (%)\n",
      "# 15. PV     : 수증기압 (hPa)\n",
      "# 16. RN     : 강수량 (mm) : 여름철에는 1시간강수량, 겨울철에는 3시간강수량\n",
      "# 17. RN_DAY : 일강수량 (mm) : 해당시간까지 관측된 양(통계표)\n",
      "# 18. RN_JUN : 일강수량 (mm) : 해당시간까지 관측된 양을 전문으로 입력한 값(전문)\n",
      "# 19. RN_INT : 강수강도 (mm/h) : 관측하는 곳이 별로 없음\n",
      "# 20. SD_HR3 : 3시간 신적설 (cm) : 3시간 동안 내린 신적설의 높이\n",
      "# 21. SD_DAY : 일 신적설 (cm) : 00시00분부터 위 관측시간까지 내린 신적설의 높이\n",
      "# 22. SD_TOT : 적설 (cm) : 치우지 않고 그냥 계속 쌓이도록 놔눈 경우의 적설의 높이\n",
      "# 23. WC     : GTS 현재일기 (Code 4677)\n",
      "# 24. WP     : GTS 과거일기 (Code 4561) .. 3(황사),4(안개),5(가랑비),6(비),7(눈),8(소나기),9(뇌전)\n",
      "# 25. WW     : 국내식 일기코드 (문자열 22개) : 2자리씩 11개까지 기록 가능 (코드는 기상자원과 문의)\n",
      "# 26. CA_TOT : 전운량 (1/10)\n",
      "# 27. CA_MID : 중하층운량 (1/10)\n",
      "# 28. CH_MIN : 최저운고 (100m)\n",
      "# 29. CT     : 운형 (문자열 8개) : 2자리 코드로 4개까지 기록 가능\n",
      "# 30. CT_TOP : GTS 상층운형 (Code 0509)\n",
      "# 31. CT_MID : GTS 중층운형 (Code 0515)\n",
      "# 32. CT_LOW : GTS 하층운형 (Code 0513)\n",
      "# 33. VS     : 시정 (10m)\n",
      "# 34. SS     : 일조 (hr)\n",
      "# 35. SI     : 일사 (MJ/m2)\n",
      "# 36. ST_GD  : 지면상태 코드 (코드는 기상자원과 문의)\n",
      "# 37. TS     : 지면온도 (C)\n",
      "# 38. TE_005 : 5cm 지중온도 (C)\n",
      "# 39. TE_01  : 10cm 지중온도 (C)\n",
      "# 40. TE_02  : 20cm 지중온도 (C)\n",
      "# 41. TE_03  : 30cm 지중온도 (C)\n",
      "# 42. ST_SEA : 해면상태 코드 (코드는 기상자원과 문의)\n",
      "# 43. WH     : 파고 (m) : 해안관측소에서 목측한 값\n",
      "# 44. BF     : Beaufart 최대풍력(GTS코드)\n",
      "# 45. IR     : 강수자료 유무 (Code 1819) .. 1(Sec1에 포함), 2(Sec3에 포함), 3(무강수), 4(결측)\n",
      "# 46. IX     : 유인관측/무인관측 및 일기 포함여부 (code 1860) .. 1,2,3(유인) 4,5,6(무인) / 1,4(포함), 2,5(생략), 3,6(결측)\n",
      "#--------------------------------------------------------------------------------------------------\n",
      "#2345678901234567890123456789012345678901234567890123456789012345678901234567890123456789012345678901234567890123456789012345678901234567890123456789012345678901234567890123456789012345678901234567890123456789012345678901234567890123456789012345678901234\n",
      "# YYMMDDHHMI STN  WD   WS GST  GST  GST     PA     PS PT    PR    TA    TD    HM    PV     RN     RN     RN     RN     SD     SD     SD WC WP WW                      CA  CA   CH CT        CT  CT  CT    VS   SS    SI ST    TS    TE    TE    TE    TE  ST   WH BF IR IX\n",
      "#        KST  ID  16  m/s  WD   WS   TM    hPa    hPa  -   hPa     C     C     %   hPa     mm    DAY    JUN    INT    HR3    DAY    TOT -- -- ---------------------- TOT MID  MIN -------- TOP MID LOW                  GD     C     5    10    20    30 SEA    m --  -  -\n",
      "202501131400 156  20  1.4  -9 -9.0   -9 1018.3 1027.1 -9  -9.0   6.2  -3.4  50.0   4.8   -9.0   -9.0   -9.0   -9.0   -9.0   -9.0   -9.0 -9 -9 -                        6   6   10 Sc         0   0   5  1715  1.0  1.86 -9   9.4 -99.0 -99.0 -99.0 -99.0  -9 -9.0 -9  3  2\n",
      "#7777END\n",
      "\n"
     ]
    }
   ],
   "source": [
    "print(response.text)"
   ]
  }
 ],
 "metadata": {
  "kernelspec": {
   "display_name": "Python 3 (ipykernel)",
   "language": "python",
   "name": "python3"
  },
  "language_info": {
   "codemirror_mode": {
    "name": "ipython",
    "version": 3
   },
   "file_extension": ".py",
   "mimetype": "text/x-python",
   "name": "python",
   "nbconvert_exporter": "python",
   "pygments_lexer": "ipython3",
   "version": "3.10.16"
  }
 },
 "nbformat": 4,
 "nbformat_minor": 5
}
