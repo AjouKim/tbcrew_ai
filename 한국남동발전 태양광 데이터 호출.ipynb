{
 "cells": [
  {
   "cell_type": "code",
   "execution_count": 2,
   "id": "8baaf6b4-29cc-48ba-a93e-dbab58e043c8",
   "metadata": {},
   "outputs": [],
   "source": [
    "import requests  # requests 모듈 임포트\n",
    "import numpy as np\n",
    "import pandas as pd\n",
    "from tqdm import tqdm\n",
    "import matplotlib.pyplot as plt\n",
    "import seaborn as sns\n",
    "\n",
    "\n",
    "headers = {  # 헤더 설정\n",
    "    'Content-Type': 'application/json'  # JSON 형식 설정\n",
    "}\n",
    "\n",
    "#단기 육상 예보 정보 조회 예시\n",
    "\n",
    "url = 'http://apis.data.go.kr/B551893/solar-power-by-hour/list?serviceKey=g9fE2L%2BKlEr9oESsDS3k2yRya43oOkk%2Fe0topuwCNZVs018conf%2BfUegkc6fW8HDhYcr1qVXez5WVTYHg7ZZoQ%3D%3D&startD=20220101&endD=20230101'\n",
    "\n",
    "response = requests.get(url, headers=headers)  # GET 요청"
   ]
  },
  {
   "cell_type": "code",
   "execution_count": 4,
   "id": "1eb28c3b-ed30-481b-a569-5b8906bc5a88",
   "metadata": {},
   "outputs": [
    {
     "data": {
      "text/plain": [
       "'{\"reponse\":{\"header\":{\"resultCode\":\"00\",\"resultMsg\":\"NORMAL SERVICE.\"},\"body\":{\"content\":[{\"dgenYmd\":\"2022-09-24\",\"ippt\":\"9875\",\"hogi\":\"1\",\"ipptNam\":\"영흥태양광#5\",\"qhorGen01\":0,\"qhorGen02\":0,\"qhorGen03\":0,\"qhorGen04\":0,\"qhorGen05\":0,\"qhorGen06\":0,\"qhorGen07\":26.516,\"qhorGen08\":496.568,\"qhorGen09\":1340.253,\"qhorGen10\":2048.947,\"qhorGen11\":2516.589,\"qhorGen12\":2781.747,\"qhorGen13\":2897.453,\"qhorGen14\":2808.263,\"qhorGen15\":2470.789,\"qhorGen16\":1928.421,\"qhorGen17\":1014.832,\"qhorGen18\":221.768,\"qhorGen19\":7.232,\"qhorGen20\":0,\"qhorGen21\":0,\"qhorGen22\":0,\"qhorGen23\":0,\"qhorGen24\":0,\"qsum\":20559.378,\"qavg\":857,\"qvodMaxS\":2897.45,\"qvodMinS\":7.232,\"qvodMax\":2897.453,\"qvodMin\":0,\"eaidml\":null,\"eaiflag\":null,\"eaimsg\":null},{\"dgenYmd\":\"2022-09-24\",\"ippt\":\"987A\",\"hogi\":\"1\",\"ipptNam\":\"영흥태양광 #3\",\"qhorGen01\":463.2,\"qhorGen02\":0,\"qhorGen03\":0,\"qhorGen04\":0,\"qhorGen05\":0,\"qhorGen06\":0,\"qhorGen07\":0,\"qhorGen08\":380.4,\"qhorGen09\":1154.64,\"qhorGen10\":1762.8,\"qhorGen11\":165.84,\"qhorGen12\":60.24,\"qhorGen13\":1823.28,\"qhorGen14\":2469.36,\"qhorGen15\":2193.12,\"qhorGen16\":1720.8,\"qhorGen17\":852.48,\"qhorGen18\":188.4,\"qhorGen19\":0,\"qhorGen20\":0,\"qhorGen21\":0,\"qhorGen22\":0,\"qhorGen23\":2083.2,\"qhorGen24\":2215.2,\"qsum\":17532.96,\"qavg\":731,\"qvodMaxS\":2469.36,\"qvodMinS\":60.24,\"qvodMax\":2469.36,\"qvodMin\":0,\"eaidml\":null,\"eaiflag\":null,\"eaimsg\":null},{\"dgenYmd\":\"2022-09-24\",\"ippt\":\"987B\",\"hogi\":\"2\",\"ipptNam\":\"영흥태양광 #3\",\"qhorGen01\":400.32,\"qhorGen02\":0,\"qhorGen03\":0,\"qhorGen04\":0,\"qhorGen05\":0,\"qhorGen06\":0,\"qhorGen07\":0,\"qhorGen08\":146.496,\"qhorGen09\":427.584,\"qhorGen10\":669.12,\"qhorGen11\":75.648,\"qhorGen12\":22.56,\"qhorGen13\":656.544,\"qhorGen14\":953.088,\"qhorGen15\":850.176,\"qhorGen16\":673.44,\"qhorGen17\":383.232,\"qhorGen18\":79.488,\"qhorGen19\":0,\"qhorGen20\":0,\"qhorGen21\":0,\"qhorGen22\":0,\"qhorGen23\":680.64,\"qhorGen24\":736.32,\"qsum\":6754.656,\"qavg\":281,\"qvodMaxS\":953.08,\"qvodMinS\":22.56,\"qvodMax\":953.088,\"qvodMin\":0,\"eaidml\":null,\"eaiflag\":null,\"eaimsg\":null},{\"dgenYmd\":\"2022-09-24\",\"ippt\":\"987C\",\"hogi\":\"3\",\"ipptNam\":\"영흥태양광 #3\",\"qhorGen01\":0,\"qhorGen02\":0,\"qhorGen03\":0,\"qhorGen04\":0,\"qhorGen05\":0,\"qhorGen06\":0,\"qhorGen07\":0,\"qhorGen08\":196.92,\"qhorGen09\":580.8,\"qhorGen10\":905.4,\"qhorGen11\":174,\"qhorGen12\":203.64,\"qhorGen13\":1148.04,\"qhorGen14\":1228.32,\"qhorGen15\":1094.16,\"qhorGen16\":867.36,\"qhorGen17\":475.44,\"qhorGen18\":99.96,\"qhorGen19\":0,\"qhorGen20\":0,\"qhorGen21\":0,\"qhorGen22\":0,\"qhorGen23\":678,\"qhorGen24\":739.2,\"qsum\":8391.24,\"qavg\":350,\"qvodMaxS\":1228.32,\"qvodMinS\":99.96,\"qvodMax\":1228.32,\"qvodMin\":0,\"eaidml\":null,\"eaiflag\":null,\"eaimsg\":null},{\"dgenYmd\":\"2022-09-24\",\"ippt\":\"9973\",\"hogi\":\"1\",\"ipptNam\":\"영흥태양광\",\"qhorGen01\":0,\"qhorGen02\":0,\"qhorGen03\":0,\"qhorGen04\":0,\"qhorGen05\":0,\"qhorGen06\":0,\"qhorGen07\":0,\"qhorGen08\":39.667,\"qhorGen09\":255.014,\"qhorGen10\":466.637,\"qhorGen11\":621.197,\"qhorGen12\":705.178,\"qhorGen13\":729.331,\"qhorGen14\":691.699,\"qhorGen15\":618.048,\"qhorGen16\":491.981,\"qhorGen17\":270.182,\"qhorGen18\":62.515,\"qhorGen19\":0,\"qhorGen20\":0,\"qhorGen21\":0,\"qhorGen22\":0,\"qhorGen23\":0,\"qhorGen24\":0,\"qsum\":4951.449,\"qavg\":206,\"qvodMaxS\":729.33,\"qvodMinS\":39.66,\"qvodMax\":729.331,\"qvodMin\":0,\"eaidml\":null,\"eaiflag\":null,\"eaimsg\":null},{\"dgenYmd\":\"2022-09-24\",\"ippt\":\"9978\",\"hogi\":\"1\",\"ipptNam\":\"예천태양광\",\"qhorGen01\":0,\"qhorGen02\":0,\"qhorGen03\":0,\"qhorGen04\":0,\"qhorGen05\":0,\"qhorGen06\":0,\"qhorGen07\":1.26,\"qhorGen08\":171.72,\"qhorGen09\":650.7,\"qhorGen10\":1014.66,\"qhorGen11\":1253.88,\"qhorGen12\":1404.9,\"qhorGen13\":1471.14,\"qhorGen14\":1409.4,\"qhorGen15\":1224.9,\"qhorGen16\":842.22,\"qhorGen17\":572.76,\"qhorGen18\":182.52,\"qhorGen19\":11.88,\"qhorGen20\":0,\"qhorGen21\":0,\"qhorGen22\":0,\"qhorGen23\":0,\"qhorGen24\":0,\"qsum\":10211.94,\"qavg\":425,\"qvodMaxS\":1471.14,\"qvodMinS\":1.26,\"qvodMax\":1471.14,\"qvodMin\":0,\"eaidml\":null,\"eaiflag\":null,\"eaimsg\":null},{\"dgenYmd\":\"2022-09-24\",\"ippt\":\"997I\",\"hogi\":\"1\",\"ipptNam\":\"여수태양광\",\"qhorGen01\":0,\"qhorGen02\":0,\"qhorGen03\":0,\"qhorGen04\":0,\"qhorGen05\":0,\"qhorGen06\":0,\"qhorGen07\":0,\"qhorGen08\":0,\"qhorGen09\":0,\"qhorGen10\":0,\"qhorGen11\":0,\"qhorGen12\":0,\"qhorGen13\":0,\"qhorGen14\":0,\"qhorGen15\":0,\"qhorGen16\":0,\"qhorGen17\":0,\"qhorGen18\":0,\"qhorGen19\":0,\"qhorGen20\":0,\"qhorGen21\":0,\"qhorGen22\":0,\"qhorGen23\":0,\"qhorGen24\":889.44,\"qsum\":889.44,\"qavg\":37,\"qvodMaxS\":889.44,\"qvodMinS\":889.44,\"qvodMax\":889.44,\"qvodMin\":0,\"eaidml\":null,\"eaiflag\":null,\"eaimsg\":null},{\"dgenYmd\":\"2022-09-24\",\"ippt\":\"997J\",\"hogi\":\"2\",\"ipptNam\":\"영흥태양광\",\"qhorGen01\":0,\"qhorGen02\":0,\"qhorGen03\":0,\"qhorGen04\":0,\"qhorGen05\":0,\"qhorGen06\":0,\"qhorGen07\":1.928,\"qhorGen08\":78.101,\"qhorGen09\":229.482,\"qhorGen10\":359.651,\"qhorGen11\":439.68,\"qhorGen12\":485.962,\"qhorGen13\":504.282,\"qhorGen14\":491.747,\"qhorGen15\":436.787,\"qhorGen16\":322.046,\"qhorGen17\":182.236,\"qhorGen18\":42.425,\"qhorGen19\":0.964,\"qhorGen20\":0,\"qhorGen21\":0,\"qhorGen22\":0,\"qhorGen23\":0,\"qhorGen24\":0,\"qsum\":3575.291,\"qavg\":149,\"qvodMaxS\":504.28,\"qvodMinS\":0.96,\"qvodMax\":504.282,\"qvodMin\":0,\"eaidml\":null,\"eaiflag\":null,\"eaimsg\":null},{\"dgenYmd\":\"2022-09-24\",\"ippt\":\"C003\",\"hogi\":\"1\",\"ipptNam\":\"탑선태양광\",\"qhorGen01\":0,\"qhorGen02\":0,\"qhorGen03\":0,\"qhorGen04\":0,\"qhorGen05\":0,\"qhorGen06\":0,\"qhorGen07\":0,\"qhorGen08\":0,\"qhorGen09\":0,\"qhorGen10\":0,\"qhorGen11\":0,\"qhorGen12\":0,\"qhorGen13\":0,\"qhorGen14\":0,\"qhorGen15\":0,\"qhorGen16\":0,\"qhorGen17\":0,\"qhorGen18\":0,\"qhorGen19\":0,\"qhorGen20\":0,\"qhorGen21\":0,\"qhorGen22\":0,\"qhorGen23\":0,\"qhorGen24\":1732,\"qsum\":1732,\"qavg\":72,\"qvodMaxS\":1732,\"qvodMinS\":1732,\"qvodMax\":1732,\"qvodMin\":0,\"eaidml\":null,\"eaiflag\":null,\"eaimsg\":null},{\"dgenYmd\":\"2022-09-24\",\"ippt\":\"C004\",\"hogi\":\"3\",\"ipptNam\":\"탑선태양광\",\"qhorGen01\":0,\"qhorGen02\":0,\"qhorGen03\":0,\"qhorGen04\":0,\"qhorGen05\":0,\"qhorGen06\":0,\"qhorGen07\":0,\"qhorGen08\":0,\"qhorGen09\":0,\"qhorGen10\":0,\"qhorGen11\":0,\"qhorGen12\":0,\"qhorGen13\":0,\"qhorGen14\":0,\"qhorGen15\":0,\"qhorGen16\":0,\"qhorGen17\":0,\"qhorGen18\":0,\"qhorGen19\":0,\"qhorGen20\":0,\"qhorGen21\":0,\"qhorGen22\":0,\"qhorGen23\":0,\"qhorGen24\":934,\"qsum\":934,\"qavg\":39,\"qvodMaxS\":934,\"qvodMinS\":934,\"qvodMax\":934,\"qvodMin\":0,\"eaidml\":null,\"eaiflag\":null,\"eaimsg\":null}],\"totalElements\":8052,\"last\":false,\"totalPages\":806,\"size\":10,\"number\":0,\"sort\":null,\"first\":true,\"numberOfElements\":10}}}'"
      ]
     },
     "execution_count": 4,
     "metadata": {},
     "output_type": "execute_result"
    }
   ],
   "source": [
    "response.text"
   ]
  }
 ],
 "metadata": {
  "kernelspec": {
   "display_name": "Python 3 (ipykernel)",
   "language": "python",
   "name": "python3"
  },
  "language_info": {
   "codemirror_mode": {
    "name": "ipython",
    "version": 3
   },
   "file_extension": ".py",
   "mimetype": "text/x-python",
   "name": "python",
   "nbconvert_exporter": "python",
   "pygments_lexer": "ipython3",
   "version": "3.10.16"
  }
 },
 "nbformat": 4,
 "nbformat_minor": 5
}
