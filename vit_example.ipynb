{
 "cells": [
  {
   "cell_type": "code",
   "execution_count": null,
   "id": "41ca767a-030d-4a93-b0d3-d2b79f3fb586",
   "metadata": {},
   "outputs": [
    {
     "name": "stderr",
     "output_type": "stream",
     "text": [
      "C:\\Users\\juh08\\anaconda3\\envs\\turbin\\lib\\site-packages\\torch\\optim\\adam.py:534: UserWarning: The operator 'aten::lerp.Scalar_out' is not currently supported on the DML backend and will fall back to run on the CPU. This may have performance implications. (Triggered internally at C:\\__w\\1\\s\\pytorch-directml-plugin\\torch_directml\\csrc\\dml\\dml_cpu_fallback.cpp:17.)\n",
      "  torch._foreach_lerp_(device_exp_avgs, device_grads, 1 - beta1)\n",
      "C:\\Users\\juh08\\AppData\\Local\\Temp\\ipykernel_2352\\981954444.py:13: UserWarning: 'has_cuda' is deprecated, please use 'torch.backends.cuda.is_built()'\n",
      "  if torch.has_cuda:\n"
     ]
    },
    {
     "name": "stdout",
     "output_type": "stream",
     "text": [
      "Epoch: 1 [0/60000] Loss: 2.354912\n"
     ]
    }
   ],
   "source": [
    "import torch\n",
    "import torch.nn as nn\n",
    "import torch.optim as optim\n",
    "from torchvision import datasets, transforms\n",
    "import torch_directml\n",
    "import timm  # timm 라이브러리 사용\n",
    "import gc  # Garbage Collector 사용\n",
    "\n",
    "def free_memory():\n",
    "    # Python 메모리 관리\n",
    "    gc.collect()\n",
    "    # PyTorch의 GPU 메모리 해제\n",
    "    if torch.has_cuda:\n",
    "        torch.cuda.empty_cache()\n",
    "\n",
    "# DirectML 디바이스 설정\n",
    "device = torch_directml.device()\n",
    "\n",
    "# 데이터셋 로드 및 전처리\n",
    "transform = transforms.Compose([\n",
    "    transforms.Grayscale(num_output_channels=3),  # ResNet은 3채널 입력 필요\n",
    "    transforms.Resize((224, 224)),  # ViT 입력 크기 조정\n",
    "    transforms.ToTensor(),\n",
    "    transforms.Normalize((0.5,), (0.5,))  # Normalize to [-1, 1]\n",
    "])\n",
    "\n",
    "train_dataset = datasets.MNIST(root='./data', train=True, download=True, transform=transform)\n",
    "test_dataset = datasets.MNIST(root='./data', train=False, download=True, transform=transform)\n",
    "\n",
    "train_loader = torch.utils.data.DataLoader(train_dataset, batch_size=8, shuffle=True)\n",
    "test_loader = torch.utils.data.DataLoader(test_dataset, batch_size=8, shuffle=False)\n",
    "\n",
    "# ViT 모델 불러오기\n",
    "vit_model = timm.create_model('vit_base_patch16_224', pretrained=True)  # ViT Base 모델\n",
    "vit_model.head = nn.Linear(vit_model.head.in_features, 10)  # MNIST 클래스 10개에 맞게 수정\n",
    "vit_model = vit_model.to(device)\n",
    "\n",
    "# 손실 함수 및 옵티마이저 정의\n",
    "criterion = nn.CrossEntropyLoss()\n",
    "optimizer = optim.Adam(vit_model.parameters(), lr=0.001)\n",
    "\n",
    "# 학습 함수 정의\n",
    "def train(model, device, train_loader, optimizer, criterion, epoch):\n",
    "    model.train()\n",
    "    for batch_idx, (data, target) in enumerate(train_loader):\n",
    "        data, target = data.to(device), target.to(device)\n",
    "        optimizer.zero_grad()\n",
    "        output = model(data)\n",
    "        loss = criterion(output, target)\n",
    "        loss.backward()\n",
    "        optimizer.step()\n",
    "        free_memory()\n",
    "\n",
    "        if batch_idx % 100 == 0:\n",
    "            print(f'Epoch: {epoch} [{batch_idx * len(data)}/{len(train_loader.dataset)}] '\n",
    "                  f'Loss: {loss.item():.6f}')\n",
    "\n",
    "# 평가 함수 정의\n",
    "def test(model, device, test_loader, criterion):\n",
    "    model.eval()\n",
    "    test_loss = 0\n",
    "    correct = 0\n",
    "    with torch.no_grad():\n",
    "        for data, target in test_loader:\n",
    "            data, target = data.to(device), target.to(device)\n",
    "            output = model(data)\n",
    "            test_loss += criterion(output, target).item()  # 배치 손실 더하기\n",
    "            pred = output.argmax(dim=1, keepdim=True)  # 가장 높은 확률의 클래스 예측\n",
    "            correct += pred.eq(target.view_as(pred)).sum().item()\n",
    "\n",
    "    test_loss /= len(test_loader.dataset)\n",
    "    print(f'\\nTest set: Average loss: {test_loss:.4f}, Accuracy: {correct}/{len(test_loader.dataset)} '\n",
    "          f'({100. * correct / len(test_loader.dataset):.2f}%)\\n')\n",
    "\n",
    "# 학습 실행\n",
    "num_epochs = 1\n",
    "for epoch in range(1, num_epochs + 1):\n",
    "    train(vit_model, device, train_loader, optimizer, criterion, epoch)\n",
    "    test(vit_model, device, test_loader, criterion)\n"
   ]
  },
  {
   "cell_type": "code",
   "execution_count": null,
   "id": "ff40800f-bdd1-408a-b6cb-739ea280dd3c",
   "metadata": {},
   "outputs": [],
   "source": []
  }
 ],
 "metadata": {
  "kernelspec": {
   "display_name": "Python 3 (ipykernel)",
   "language": "python",
   "name": "python3"
  },
  "language_info": {
   "codemirror_mode": {
    "name": "ipython",
    "version": 3
   },
   "file_extension": ".py",
   "mimetype": "text/x-python",
   "name": "python",
   "nbconvert_exporter": "python",
   "pygments_lexer": "ipython3",
   "version": "3.10.16"
  }
 },
 "nbformat": 4,
 "nbformat_minor": 5
}
