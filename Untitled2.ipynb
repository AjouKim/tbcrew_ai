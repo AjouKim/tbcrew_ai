{
 "cells": [
  {
   "cell_type": "code",
   "execution_count": null,
   "id": "bc1046a7-7954-47ca-ab04-f775ccb1f1d4",
   "metadata": {},
   "outputs": [],
   "source": []
  }
 ],
 "metadata": {
  "kernelspec": {
   "display_name": "",
   "name": ""
  },
  "language_info": {
   "name": ""
  }
 },
 "nbformat": 4,
 "nbformat_minor": 5
}
